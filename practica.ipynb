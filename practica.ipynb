{
 "cells": [
  {
   "cell_type": "code",
   "execution_count": 448,
   "id": "389a3f67",
   "metadata": {},
   "outputs": [],
   "source": [
    "import random as rand"
   ]
  },
  {
   "cell_type": "code",
   "execution_count": 449,
   "id": "fa6a361f",
   "metadata": {},
   "outputs": [],
   "source": [
    "# Variables importantes\n",
    "numero_poblacion = 2\n",
    "generaciones = 50\n",
    "mochila = 10\n",
    "probabilidad_cruza = 0.85\n",
    "cruza_uniforme = 0.5\n",
    "\n",
    "# Decoy detonators, love potion, extendable ears, skiving snackbox, fever fudge, puking pastilles, nosebleed nougat\n",
    "ganancia = [10, 8, 12, 6, 3, 2, 2]\n",
    "peso = [4, 2, 5, 5, 2, 1.5, 1]"
   ]
  },
  {
   "cell_type": "code",
   "execution_count": 450,
   "id": "5a2947c2",
   "metadata": {},
   "outputs": [],
   "source": [
    "# Generar población inicial\n",
    "def poblacion(individuos):\n",
    "    \n",
    "    poblacion = []\n",
    "    j = 0\n",
    "    \n",
    "    for i in range (individuos):\n",
    "        \n",
    "        individuo = [0,0,0,0,0,0,0]\n",
    "        \n",
    "        while j <= 6:\n",
    "            if j == 1:\n",
    "                individuo[1] = rand.randint(3,10)\n",
    "            elif j == 3:\n",
    "                individuo[3] = rand.randint(2,10)\n",
    "            else:\n",
    "                individuo[j] = rand.randint(0,10)\n",
    "            j += 1 \n",
    "        poblacion.append(individuo)\n",
    "        j = 0\n",
    "    \n",
    "    return poblacion"
   ]
  },
  {
   "cell_type": "code",
   "execution_count": 451,
   "id": "f53804db",
   "metadata": {},
   "outputs": [],
   "source": [
    "def aptitud(poblacion):\n",
    "    suma_total = 0\n",
    "    suma_indv = [0]*numero_poblacion\n",
    "    j = 0\n",
    "\n",
    "    for individuo in poblacion:\n",
    "        for i in range(7):\n",
    "            suma_total += individuo[i] * ganancia[i]\n",
    "            suma_indv[j] += individuo[i] * ganancia[i]\n",
    "        j += 1\n",
    "\n",
    "    # Calcular aptitud\n",
    "    aptitud = []\n",
    "    aptitud_acumulada = []\n",
    "\n",
    "    for i in range (len(poblacion)):\n",
    "        aptitud.append(suma_indv[i]/suma_total)\n",
    "        \n",
    "        if i == 0:\n",
    "            aptitud_acumulada.append(aptitud[i])\n",
    "        else:\n",
    "            aptitud_acumulada.append(aptitud_acumulada[i-1]+aptitud[i])\n",
    "\n",
    "    return aptitud_acumulada"
   ]
  },
  {
   "cell_type": "code",
   "execution_count": 452,
   "id": "b2cb9e38",
   "metadata": {},
   "outputs": [],
   "source": [
    "def cruza(padres):\n",
    "    \n",
    "    var_aleatoria = []\n",
    "    hijo1 = []\n",
    "    hijo2 = []\n",
    "    \n",
    "    for i in range(7):\n",
    "        var_aleatoria.append(rand.uniform(0,1))\n",
    "    \n",
    "    for i in range(7):\n",
    "        if cruza_uniforme >= var_aleatoria[i]:\n",
    "            hijo1.append(padres[0][i])\n",
    "        else:\n",
    "            hijo1.append(padres[1][i])\n",
    "            \n",
    "        if cruza_uniforme >= var_aleatoria[i]:\n",
    "            hijo2.append(padres[1][i])\n",
    "        else:\n",
    "            hijo2.append(padres[0][i])\n",
    "            \n",
    "    return hijo1, hijo2"
   ]
  },
  {
   "cell_type": "code",
   "execution_count": 453,
   "id": "74dd4fcc",
   "metadata": {},
   "outputs": [],
   "source": [
    "def ruleta(aptitud, poblacion):\n",
    "    \n",
    "    print(aptitud)\n",
    "    \n",
    "    padres = []\n",
    "    random1 = rand.uniform(0,1)\n",
    "    print(random1)    \n",
    "    \n",
    "    for i, apt in enumerate(aptitud):\n",
    "        if apt >= random1 and poblacion[i] not in padres:\n",
    "            padres.append(poblacion[i])\n",
    "            break\n",
    "            \n",
    "    while len(padres) != 2:\n",
    "        random2 = rand.uniform(0,1)\n",
    "        for i, apt in enumerate(aptitud):\n",
    "            if apt >= random2 and poblacion[i] not in padres:\n",
    "                padres.append(poblacion[i])\n",
    "                break\n",
    "\n",
    "    print(\"Padres: \", padres)\n",
    "        \n",
    "    random_cruza = rand.uniform(0,1)\n",
    "    if probabilidad_cruza >= random_cruza:\n",
    "        return padres, True\n",
    "    else:\n",
    "        print(\"lol q mal\")\n",
    "        return padres, False"
   ]
  },
  {
   "cell_type": "code",
   "execution_count": 454,
   "id": "e7d1adbe",
   "metadata": {},
   "outputs": [
    {
     "name": "stdout",
     "output_type": "stream",
     "text": [
      "[[0, 7, 2, 6, 5, 4, 3], [0, 3, 8, 8, 7, 3, 8]]\n",
      "[0.40730337078651685, 1.0]\n",
      "0.44445015545259925\n",
      "Padres:  [[0, 3, 8, 8, 7, 3, 8], [0, 7, 2, 6, 5, 4, 3]]\n",
      "nueva_poblacion:  [[0, 3, 8, 8, 7, 4, 3], [0, 7, 2, 6, 5, 3, 8]]\n"
     ]
    }
   ],
   "source": [
    "pob = poblacion(numero_poblacion)\n",
    "print(pob)\n",
    "apt = aptitud(pob)\n",
    "x = 0\n",
    "nueva_poblacion = []\n",
    "while x < numero_poblacion/2:\n",
    "\n",
    "    padres, flag = ruleta(apt, pob)\n",
    "\n",
    "    if flag:\n",
    "        hijo1, hijo2 = cruza(padres)\n",
    "        nueva_poblacion.append(hijo1)\n",
    "        nueva_poblacion.append(hijo2)\n",
    "\n",
    "    else:\n",
    "        nueva_poblacion.append(padres[0])\n",
    "        nueva_poblacion.append(padres[1])\n",
    "\n",
    "    x += 1\n",
    "\n",
    "print(\"nueva_poblacion: \", nueva_poblacion)"
   ]
  }
 ],
 "metadata": {
  "kernelspec": {
   "display_name": "Python 3",
   "language": "python",
   "name": "python3"
  },
  "language_info": {
   "codemirror_mode": {
    "name": "ipython",
    "version": 3
   },
   "file_extension": ".py",
   "mimetype": "text/x-python",
   "name": "python",
   "nbconvert_exporter": "python",
   "pygments_lexer": "ipython3",
   "version": "3.13.7"
  }
 },
 "nbformat": 4,
 "nbformat_minor": 5
}
