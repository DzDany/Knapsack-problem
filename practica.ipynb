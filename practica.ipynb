{
 "cells": [
  {
   "cell_type": "markdown",
   "id": "9ce05f52",
   "metadata": {},
   "source": [
    "# Ola, bro"
   ]
  }
 ],
 "metadata": {
  "language_info": {
   "name": "python"
  }
 },
 "nbformat": 4,
 "nbformat_minor": 5
}
